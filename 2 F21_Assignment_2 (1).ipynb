{
 "cells": [
  {
   "cell_type": "markdown",
   "metadata": {
    "id": "TX_-QfCapg5r"
   },
   "source": [
    "## CIND830 - Python Programming for Data Science  \n",
    "### Assignment 2 (10% of the final grade)\n",
    "### Due on November 15, 2021 11:59 PM"
   ]
  },
  {
   "cell_type": "markdown",
   "metadata": {
    "id": "U8IqCJzxpg5t"
   },
   "source": [
    "*****\n",
    "This is a Jupyter Notebook document that extends a simple formatting syntax for authoring HTML and PDF.\n",
    "Review [this](https://jupyter-notebook.readthedocs.io/en/stable/notebook.html) website for more details on using Juputer Notebook.\n",
    "\n",
    "Use the JupyterHub server on the Google Cloud Platform,\n",
    "provided by your designated instructor, for this assignment.\n",
    "Complete the assignment by inserting your Python code wherever you see the string\n",
    "\"#INSERT YOUR ANSWER HERE.\"\n",
    "\n",
    "When you click the `File` button, from the top navigation bar, then select `Export Notebook As ...`,\n",
    "a document (PDF or HTML format) will be generated that includes\n",
    " both the assignment content and the output of any embedded Python code chunks.\n",
    "\n",
    "Using [these](https://www.ryerson.ca/courses/students/tutorials/assignments/) guidelines,\n",
    "submit **both** the IPYNB and the exported file (PDF or HTML).\n",
    "Failing to submit both files will be subject to mark deduction."
   ]
  },
  {
   "cell_type": "markdown",
   "metadata": {
    "id": "_w2FpDl5pg5u"
   },
   "source": [
    "*****"
   ]
  },
  {
   "cell_type": "markdown",
   "metadata": {
    "id": "EgCYUXsUpg5w"
   },
   "source": [
    "### Question 1 **[30 pts]**:"
   ]
  },
  {
   "cell_type": "markdown",
   "metadata": {
    "id": "U8EiOXpFAvO0"
   },
   "source": [
    "**a)** **[5 pts]** Define a function called `is_symmetrical` that takes a string value as a parameter and returns `True` if the given string is Symmetrical. A string is said to be symmetrical if the reverse of the string is the same as string. For example, “madam” is symmetrical, but “water” is not symmetrical. Note that strings are case sensitive."
   ]
  },
  {
   "cell_type": "code",
   "execution_count": 1,
   "metadata": {
    "id": "uDtTitw9AvO1",
    "pycharm": {
     "name": "#%%\n"
    }
   },
   "outputs": [],
   "source": [
    "def is_symmetrical(s):\n",
    "    \"\"\"\n",
    "    is_symmetrical(str) -> boolean\n",
    "    \"\"\"\n",
    "    if len(s)%2 == 0:\n",
    "        a = int(len(s)/2)\n",
    "        for j in range(a):\n",
    "            if s[j] != s[-(j+1)]:\n",
    "                return False\n",
    "        return True\n",
    "    else:\n",
    "        b = int((len(s)-1)/2)\n",
    "        for k in range(b):\n",
    "            if s[k] != s[-(k+1)]:\n",
    "                return False\n",
    "        return True\n"
   ]
  },
  {
   "cell_type": "markdown",
   "metadata": {
    "id": "7P6eyfpepg58"
   },
   "source": [
    "**b)** **[5 pts]** Modify the `is_symmetrical` function you created in Q1.a to take any data type (int,str,etc.) as an input and return `True` if the input is symmetrical. For example, \"12321\" is symmetrical, but \"12345\" is not symmetrical."
   ]
  },
  {
   "cell_type": "code",
   "execution_count": 2,
   "metadata": {
    "colab": {
     "base_uri": "https://localhost:8080/"
    },
    "id": "s2xo2uaYpg59",
    "outputId": "83766694-3eb3-4ca5-ab7e-21f24d95f593",
    "pycharm": {
     "name": "#%%\n"
    },
    "tags": [
     "parameters"
    ]
   },
   "outputs": [],
   "source": [
    "#already works for strings, lists, tuples etc but DOES NOT work for integers\n",
    "#all we have to do is convert the data types of type int into strings\n",
    "#then we can iterate over the individual digits\n",
    "\n",
    "def is_symmetrical_1(s):\n",
    "    \"\"\"\n",
    "    is_symmetrical_1(any data type) -> boolean\n",
    "    \"\"\"\n",
    "    if type(s)== int:\n",
    "        s = str(s)\n",
    "    if len(s)%2 == 0:\n",
    "        a = int(len(s)/2)\n",
    "        for j in range(a):\n",
    "            if s[j] != s[-(j+1)]:\n",
    "                return False\n",
    "        return True\n",
    "    else:\n",
    "        b = int((len(s)-1)/2)\n",
    "        for k in range(b):\n",
    "            if s[k] != s[-(k+1)]:\n",
    "                return False\n",
    "        return True\n"
   ]
  },
  {
   "cell_type": "markdown",
   "metadata": {
    "id": "xC08P3Mvpg6C"
   },
   "source": [
    "**c)** **[5 pts]** Define a function called `is_symmetrical_vec` that calls `is_symmetrical` function you updated in Q1.b to take a list of elements and return their results in a list.  For example, given \\[\"1441\", \"Apple\", \"radar\", \"232\", \"plane\"\\] the function returns \\[`True`, `False`, `True`, `True`, `False`\\]"
   ]
  },
  {
   "cell_type": "code",
   "execution_count": 3,
   "metadata": {
    "id": "MVoBD9X1pg6D",
    "pycharm": {
     "name": "#%%\n"
    },
    "tags": []
   },
   "outputs": [],
   "source": [
    "def is_symmetrical_vec (l):\n",
    "    a = []\n",
    "    for i in range(len(l)):\n",
    "        val = is_symmetrical_1(l[i])\n",
    "        a.append(val)\n",
    "    return a\n"
   ]
  },
  {
   "cell_type": "markdown",
   "metadata": {
    "id": "M4dHoJWYpg6G"
   },
   "source": [
    "**d)** **[7 pts]** Define a function called `is_symmetrical_dict` by modifying the function you created in Q1.c to return the results in a dictionary with their corresponding input elements. \\\n",
    "For example, given \\[\"1441\", \"Apple\", \"radar\", \"232\", \"plane\"\\] the function returns {\"1441\": `True`, \"Apple\": `False`, \"radar\": `True`, \"232\": `True`, \"plane\": `False`\\}"
   ]
  },
  {
   "cell_type": "code",
   "execution_count": 4,
   "metadata": {
    "id": "gtgmUSaQpg6H",
    "pycharm": {
     "name": "#%%\n"
    },
    "tags": []
   },
   "outputs": [],
   "source": [
    "def is_symmetrical_dict(l):\n",
    "    d={}\n",
    "    for i in range(len(l)):\n",
    "        val = is_symmetrical_1(l[i])\n",
    "        d[l[i]]=val\n",
    "    return d\n",
    "   "
   ]
  },
  {
   "cell_type": "markdown",
   "metadata": {
    "id": "EXPv2CWzRDgl"
   },
   "source": [
    "**e)** **[8 pts]** Define a function called `is_symmetrical_tuple` by modifying the function you created in Q1.d to traverse the values of the returned dictionary **in reverse order** and return the dictionary keys that has a **`True`** value as a tuple.  For example, given \\[\"1441\", \"Apple\", \"radar\", \"232\", \"plane\"\\] the function returns (\"232\", \"radar\",\"1441\")."
   ]
  },
  {
   "cell_type": "code",
   "execution_count": 5,
   "metadata": {
    "id": "M25DHDYOUdpb"
   },
   "outputs": [],
   "source": [
    "def is_symmetrical_tuple(l):\n",
    "    t=[]\n",
    "    for i in range(len(l)):\n",
    "        val = is_symmetrical_1(l[-(i+1)])\n",
    "        if val == True:\n",
    "            t.append(l[-(i+1)])\n",
    "    return tuple(t)\n"
   ]
  },
  {
   "cell_type": "markdown",
   "metadata": {
    "id": "ES2Lj2aup8BB"
   },
   "source": [
    "*****"
   ]
  },
  {
   "cell_type": "markdown",
   "metadata": {
    "id": "TEbtnn-0pg6K",
    "nteract": {
     "transient": {
      "deleting": false
     }
    }
   },
   "source": [
    "\n",
    "\n",
    "### Question 2 **[40 pts]** :\n",
    "The data file used in this question is downloaded from https://www.kaggle.com/arjunprasadsarkhel/2021-olympics-in-tokyo and converted to a csv file.\n",
    "\n"
   ]
  },
  {
   "cell_type": "markdown",
   "metadata": {
    "id": "mJNAfvKX_NxO"
   },
   "source": [
    "**a)** **[15 pts]** The [`Medals.csv`](https://app.box.com/s/92u6ydp0zih0gygwr8xl77vy3x0prq0u) is a delimited text file containing the number of medals of teams in the 2021 Olympics in Tokyo. The file contains the following columns separated by the comma character `, `\n",
    "*  Rank\n",
    "*  Team/NOC\n",
    "*  Gold\n",
    "*  Silver\n",
    "*  Bronze\n",
    "*  Total\n",
    "*  Rank by Total \n",
    "\n",
    "Write a code that asks the user to enter the file's name: `Medals.csv.`\n",
    " If the program finds the file in the folder in which you stored it, it will read the file's contents into a list of lists called `medalsList`.  Each list inside the `medalsList` represents one row from the `Medals.csv` file.  Ensure that your code reads and stores each row as a list of strings inside the `medalsList` data structure. For example the first row would be `['1', 'United States of America', '39', '41', '33', '113', '1']`"
   ]
  },
  {
   "cell_type": "code",
   "execution_count": 6,
   "metadata": {
    "id": "PWvj1Z6lpg6N",
    "nteract": {
     "transient": {
      "deleting": false
     }
    },
    "tags": []
   },
   "outputs": [
    {
     "name": "stdin",
     "output_type": "stream",
     "text": [
      "Type in the file name and extension here: Medals.csv\n"
     ]
    }
   ],
   "source": [
    "from csv import reader\n",
    "import os\n",
    "\n",
    "user_input = input('Type in the file name and extension here:')\n",
    "if os.path.exists(str(user_input)):\n",
    "    with open(user_input, 'r') as a:\n",
    "        b = reader(a)\n",
    "        medalsList = list(b)\n",
    "else:\n",
    "    print('File not found')\n",
    "    \n"
   ]
  },
  {
   "cell_type": "markdown",
   "metadata": {
    "id": "y7gGjSbSG8rY"
   },
   "source": [
    "**b)** **[15 pts]** Write a code that asks the user to enter a team name and medal type; then, it will display the total number of medals that the team has won. For example, if the user enters `Canada` as the team's name and `Gold` as the medal's type, the code should display `7`.\n",
    "\n",
    "Make sure your code handles the following four issues:\n",
    "1. The user is allowed to enter lowercase and uppercase letters; your code must be case insensitive (e.g. if the user enters `canADa`, it still needs to locate `Canada` correctly)\n",
    "2. Your code should use the list `medalList` that you created in question Q2.a, rather than repeatedly reads the data from the `Medals.csv` file.\n",
    "3. The user can enter either `Gold`, `Silver`, `Bronze` or `All` for the medal's type.   For example, if the user enters `Canada` and `All`, the code should display `Gold: 7, Silver: 6, Bronze: 11, Total: 24`.\n",
    "4. If the user enters a team's name that is not in the list, the code should notify the user.  For example, if the user enters `Mozambique` as the team's name, the code would display: `Unfortunately, Mozambique did not participate in the 2021 Olympics!`\n"
   ]
  },
  {
   "cell_type": "code",
   "execution_count": 7,
   "metadata": {
    "id": "DVOaFVZvAvPO",
    "pycharm": {
     "name": "#%%\n"
    },
    "tags": []
   },
   "outputs": [
    {
     "name": "stdin",
     "output_type": "stream",
     "text": [
      "enter country name: Namibia\n",
      "enter medal type: alL\n"
     ]
    },
    {
     "name": "stdout",
     "output_type": "stream",
     "text": [
      "{'Gold': '0', 'Silver': '1', 'Bronze': '0', 'Total': '1'}\n"
     ]
    }
   ],
   "source": [
    "def grammar_fix(s):\n",
    "    for i in range(len(s)):\n",
    "        if i == 0:\n",
    "            new_s = s.upper()[0]\n",
    "        else:\n",
    "            new_s += s.lower()[i]\n",
    "    return new_s\n",
    "country = grammar_fix(input('enter country name:'))\n",
    "Medal = grammar_fix(input('enter medal type:'))\n",
    "\n",
    "def medal_dict(l):\n",
    "    meds = ['Gold','Silver','Bronze','Total']\n",
    "    md = {}\n",
    "    for i in range(len(l)):\n",
    "        md[meds[i]]=l[i]\n",
    "    return md\n",
    "\n",
    "\n",
    "for i in range(len(medalsList)):\n",
    "    count = 0\n",
    "    for j in range(len(medalsList[i])):\n",
    "        if country in medalsList[i][j]:\n",
    "            count += 1\n",
    "            if Medal in ['Gold','Silver','Bronze']:\n",
    "                a = medalsList[0].index(Medal)\n",
    "                print(medalsList[i][a])\n",
    "                break\n",
    "            if Medal == 'All':\n",
    "                b = medal_dict(medalsList[i][2:6])\n",
    "                print(b)\n",
    "                break\n",
    "            else:\n",
    "                print('invalid medal type.')\n",
    "                break  \n",
    "    if count == 1:\n",
    "        break\n",
    "    if i == len(medalsList)-1:\n",
    "        if count == 0:\n",
    "            print('Unfortunately, ',country,' did not participate in the 2021 Olympics!')\n",
    "        \n"
   ]
  },
  {
   "cell_type": "markdown",
   "metadata": {
    "id": "mkFrWZ3kAvPQ"
   },
   "source": [
    "**c)** **[10 pts]** Write a code that will ask the first letter of the team name and display the total of the medals (grouped by the medal type) taken by the teams starting with the first letter as the selected one. E.g. if the user enters `f` (case insensitive) as the first letter of the team, then your code will scan the list, find the teams `France`, `Fiji`, and `Finland` then it will display the total medals `Gold: 11, Silver: 12, Bronze: 14` (the total Gold medals of the teams starting with `f`, the total Silver of the  teams starting with `f`, etc.  \n",
    "Make sure your code handle the cases listed below:\n",
    "\n",
    "*   The user is allowed to enter lowercase and uppercase letter, your code must be case insensitive.\n",
    "*   Your code must **use** (do not read the file again) the list created in question **Q2.a** containing all the information read from the file\n",
    "*   If there is no team name starting with the selected letter then your code needs to display an error message like `No team name starts with your selected letter in the 2021 Olympics`  "
   ]
  },
  {
   "cell_type": "code",
   "execution_count": 8,
   "metadata": {
    "colab": {
     "base_uri": "https://localhost:8080/"
    },
    "id": "fP4sK_mKAvPR",
    "outputId": "8036fa61-7094-4932-a342-67f7351f1107",
    "pycharm": {
     "name": "#%%\n"
    },
    "tags": []
   },
   "outputs": [
    {
     "name": "stdin",
     "output_type": "stream",
     "text": [
      "enter the first letter of the countries: f\n"
     ]
    },
    {
     "name": "stdout",
     "output_type": "stream",
     "text": [
      "[11, 12, 14]\n",
      "{'Gold': 11, 'Silver': 12, 'Bronze': 14}\n"
     ]
    }
   ],
   "source": [
    "first_letter = grammar_fix(input('enter the first letter of the countries:'))\n",
    "index_list = []\n",
    "medal_sums = [0,0,0]\n",
    "count=0\n",
    "for k in range(len(medalsList)):\n",
    "    if first_letter == medalsList[k][1][0]:\n",
    "        count +=1\n",
    "        index_list.append(k)\n",
    "\n",
    "for l in range(len(index_list)):\n",
    "    for m in range(len(medal_sums)):\n",
    "        a = index_list[l]\n",
    "        medal_sums[m] += int(medalsList[a][m+2])\n",
    "\n",
    "if count == 0:\n",
    "    print('No team name starts with your selected letter in the 2021 Olympics')\n",
    "else:\n",
    "    print(medal_sums)\n",
    "    total_medals = medal_dict(medal_sums)\n",
    "    print(total_medals)"
   ]
  },
  {
   "cell_type": "markdown",
   "metadata": {
    "id": "M9eJ34NNAvPT"
   },
   "source": [
    "*****"
   ]
  },
  {
   "cell_type": "markdown",
   "metadata": {
    "id": "NNVEX5FMq_I7"
   },
   "source": [
    "### Question 3 **[30 pts]** :\n",
    "**a)** Define three classes: **Vehicle**, **Car** and **Truck**. Vehicle will be the parent class of Car and Truck.\n",
    "- Randomly create five objects of Car and Truck using the for loop given below\n",
    "- The program should output the correct number of vehicles: Car and Truck objects. \n",
    "- **The count of objects should be calculated within the class definitions**.\n",
    "  - Example output \\\\\n",
    "  There are  5  Vehicle objects ['Car', 'Car', 'Truck', 'Truck', 'Car'] \\\\\n",
    "\t 3 of them are Cars \\\\\n",
    "\t 2 of them are Trucks \\\\\n"
   ]
  },
  {
   "cell_type": "code",
   "execution_count": 9,
   "metadata": {
    "id": "O3jPbo4vAvPc"
   },
   "outputs": [
    {
     "name": "stdout",
     "output_type": "stream",
     "text": [
      "['Truck', 'Car', 'Truck', 'Truck', 'Truck']\n",
      "5\n",
      "1\n",
      "4\n"
     ]
    }
   ],
   "source": [
    "# Define Vehicle class\n",
    "class Vehicle():\n",
    "    count = 0\n",
    "    def __init__ (self,name):\n",
    "        pass\n",
    "    \n",
    "# Define Car class\n",
    "class Car(Vehicle):\n",
    "    def __init__(self, name):\n",
    "        Vehicle.__init__(Car,self)\n",
    "        Car.count +=1\n",
    "\n",
    "# Define Truck class\n",
    "class Truck(Vehicle):\n",
    "    def __init__(self, name):\n",
    "        Vehicle.__init__(Truck,self)\n",
    "        Truck.count+=1\n",
    "# Run the following lines of code \n",
    "\n",
    "from random import choice\n",
    "list_of_vehicles = [choice(['Car', 'Truck']) for x in range(5)]\n",
    "for vehicle in list_of_vehicles:\n",
    "  if vehicle == 'Car':\n",
    "    # create an object of Car class\n",
    "    o = Car('Pick Car') \n",
    "  else:\n",
    "    # create an object of Truck class\n",
    "    c = Truck('Pick Truck') \n",
    "\n",
    "# print the list_of_vehicles\n",
    "print(list_of_vehicles)\n",
    "# print number of Vehicle objects\n",
    "print(len(list_of_vehicles))\n",
    "# print number of Car objects\n",
    "print(o.count)\n",
    "# print number of Truck objects\n",
    "print(c.count)"
   ]
  },
  {
   "cell_type": "markdown",
   "metadata": {
    "id": "l9l0sjUoAvPk"
   },
   "source": [
    "#### This is the end of assignment 2"
   ]
  },
  {
   "cell_type": "markdown",
   "metadata": {
    "id": "fQxcs9dUqK3V"
   },
   "source": []
  }
 ],
 "metadata": {
  "colab": {
   "collapsed_sections": [],
   "name": "CIND830W21_Assignment_2_(Q).ipynb",
   "provenance": []
  },
  "kernelspec": {
   "display_name": "Python 3",
   "language": "python",
   "name": "python3"
  },
  "language_info": {
   "codemirror_mode": {
    "name": "ipython",
    "version": 3
   },
   "file_extension": ".py",
   "mimetype": "text/x-python",
   "name": "python",
   "nbconvert_exporter": "python",
   "pygments_lexer": "ipython3",
   "version": "3.7.6"
  },
  "nteract": {
   "version": "0.25.1"
  },
  "varInspector": {
   "cols": {
    "lenName": 16,
    "lenType": 16,
    "lenVar": 40
   },
   "kernels_config": {
    "python": {
     "delete_cmd_postfix": "",
     "delete_cmd_prefix": "del ",
     "library": "var_list.py",
     "varRefreshCmd": "print(var_dic_list())"
    },
    "r": {
     "delete_cmd_postfix": ") ",
     "delete_cmd_prefix": "rm(",
     "library": "var_list.r",
     "varRefreshCmd": "cat(var_dic_list()) "
    }
   },
   "types_to_exclude": [
    "module",
    "function",
    "builtin_function_or_method",
    "instance",
    "_Feature"
   ],
   "window_display": false
  }
 },
 "nbformat": 4,
 "nbformat_minor": 4
}
