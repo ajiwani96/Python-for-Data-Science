{
 "cells": [
  {
   "cell_type": "markdown",
   "metadata": {
    "id": "zb9n5Pg2TJKM"
   },
   "source": [
    "## CIND830 - Python Programming for Data Science  \n",
    "### Assignment 3 (10% of the final grade) \n",
    "### Due as per D2L\n"
   ]
  },
  {
   "cell_type": "markdown",
   "metadata": {
    "id": "Oua2yEQZTdq9"
   },
   "source": [
    "*****\n",
    "This is a Jupyter Notebook document that extends a simple formatting syntax for authoring HTML and PDF.\n",
    "Review [this](https://jupyter-notebook.readthedocs.io/en/stable/notebook.html) website for more details on using Jupyter Notebook.\n",
    "\n",
    "Use the JupyterHub server on the Google Cloud Platform, provided by your designated instructor, for this assignment. \n",
    "Ensure using **Python 3.7.6** release then complete the assignment by inserting your Python code wherever seeing the string \"#INSERT YOUR ANSWER HERE.\"\n",
    "\n",
    "When you click the `File` button, from the top navigation bar, then select `Export Notebook As ...`,\n",
    "a document (PDF or HTML format) will be generated that includes\n",
    " both the assignment content and the output of any embedded Python code chunks.\n",
    "\n",
    "Using [these](https://www.ryerson.ca/courses/students/tutorials/assignments/) guidelines,\n",
    "submit **both** the IPYNB and the exported file (PDF or HTML).\n",
    "Failing to submit both files will be subject to mark deduction."
   ]
  },
  {
   "cell_type": "markdown",
   "metadata": {},
   "source": [
    "*****"
   ]
  },
  {
   "cell_type": "markdown",
   "metadata": {
    "id": "voO18EGjWN1_"
   },
   "source": [
    "### Question 1 **[25 pts]**: \n",
    "\n",
    "Write a class **SpecialList** that can hold only strings.\n",
    "\n",
    "**Note. Only Python built-in functions are allowed to be used in this question. Do not use a third-party library for any part of the code. Importing any third-party library will result in marks deduction** \n",
    "    \n",
    "a. Users of the class should be able to instantiate an object of the **SpecialList** class with a list of strings. Name the list as *items*. Ensure you check that the input values are strings and if not throw an error. **(5 Points)**\n",
    "    \n",
    "b. Implement a *sort* method as a member of the **SpecialList** class. The sort method should sort the *items* in ascending order. Use bubble sort or insertion sort algorithm for this task. **(10 Points)**\n",
    "\n",
    "For example, \n",
    "if objSpcList = SpecialList([5, 3, 7, 3, 6, 4, 5, 8, 2, 9, 3, 4, 20, -10]) then after invoking the `sort` method, the `items` attribute will be [-10, 2, 3, 3, 3, 4, 4, 5, 5, 6, 7, 8, 9, 20]\n",
    "    \n",
    "c. Implement a *contains* method as a member of the **SpecialList** class. It should take a parameter x. If x is in the *items*, the *contains* method should return True otherwise False. Use binary search algorithm to implement this method. Remember that binary search works on sorted lists **(10 Points)**\n",
    "\n",
    "For example, \n",
    "if `objSpcList = SpecialList([5, 3, 7, 3, 6, 4, 5, 8, 2, 9, 3, 4, 20, -10])` and the user invoked the the `contains()` method with `8`, then the method will return `True"
   ]
  },
  {
   "cell_type": "code",
   "execution_count": 1,
   "metadata": {
    "id": "8cxoJR6GWN1_"
   },
   "outputs": [],
   "source": [
    "class SpecialList:\n",
    "    \n",
    "    def __init__(self, items):\n",
    "        self.items = items\n",
    "        if self._check_input() > 0:\n",
    "            raise TypeError ('All elements of the list items must be of type str')\n",
    "        \n",
    "    def _check_input(self):\n",
    "        counter = 0\n",
    "        for element in self.items:\n",
    "            if type(element) != str:\n",
    "                counter +=1\n",
    "        return counter\n",
    "    \n",
    "    def sort_items(self):\n",
    "        #36 iterations\n",
    "        n = len(self.items)\n",
    "        count = 0\n",
    "        while n>1:\n",
    "            i = 1\n",
    "            while i < n:\n",
    "                count +=1\n",
    "                if self.items[i] < self.items[i-1]:\n",
    "                    self.items[i],self.items[i-1] = self.items[i-1], self.items[i]\n",
    "                i+=1\n",
    "            n-=1\n",
    "        return (self.items, count)\n",
    "    \n",
    "    def sorting(self):\n",
    "        #44 iterations\n",
    "        stack = []\n",
    "        sorted_stack = []\n",
    "        lowest = str()\n",
    "        count = 0\n",
    "        while len(self.items)>1:\n",
    "            i=0\n",
    "            while i < len(self.items):\n",
    "                count +=1\n",
    "                p1 = self.items[i]\n",
    "                if not len(lowest):\n",
    "                    lowest = p1\n",
    "                else:\n",
    "                    n1, n2 = min(p1, lowest), max(p1,lowest)\n",
    "                    lowest = n1\n",
    "                    stack.append(n2)\n",
    "                i+=1\n",
    "        \n",
    "            sorted_stack.append(lowest)\n",
    "            j = self.items.index(lowest)\n",
    "            self.items.pop(j)\n",
    "            lowest = str()\n",
    "  \n",
    "        return (sorted_stack,count)\n",
    "            \n",
    "    \n",
    "    def items_contains(self, x):\n",
    "        self.sort_items()\n",
    "        left = 0 \n",
    "        right = len(self.items)-1\n",
    "        while left <= right:\n",
    "            midpoint = (left+right)//2\n",
    "            if x == self.items[midpoint]:\n",
    "                return True\n",
    "            elif x < self.items[midpoint]:\n",
    "                right = midpoint -1\n",
    "            else: \n",
    "                left = midpoint + 1\n",
    "        return False\n",
    "        \n",
    "            \n",
    " "
   ]
  },
  {
   "cell_type": "code",
   "execution_count": 2,
   "metadata": {
    "id": "8cxoJR6GWN1_"
   },
   "outputs": [],
   "source": [
    "a = SpecialList(['elephant', 'cat', 'monkey', 'rabbit', 'frog', 'zebra', 'carrot', 'radish','zest'])\n",
    "#a.sort_items()\n",
    "#a.items_contains('cow')\n",
    "#a.sorting()\n",
    "#a._check_input()\n",
    "\n"
   ]
  },
  {
   "cell_type": "markdown",
   "metadata": {},
   "source": [
    "*****"
   ]
  },
  {
   "cell_type": "markdown",
   "metadata": {
    "id": "KE-n_dv5TjDV"
   },
   "source": [
    "### Question 2 **[25 pts]**:\n",
    "\n",
    "\n"
   ]
  },
  {
   "cell_type": "markdown",
   "metadata": {
    "id": "3-2iAp_tWN2G"
   },
   "source": [
    "**Infix expression example:** 3+4*5/6 (operators are between numbers)\n",
    "\n",
    "**Infix expression evaluation:** 6.3333\n",
    "\n",
    "**Postfix version of the infix expression:** 345*6/+\n",
    "\n",
    "**Question:**\n",
    "\n",
    "Define a class **InfixExpression**\n",
    "\n",
    "* Assume for this question the infix expression is a list that can only contain numbers (integers or floats), \"+\", \"*\", \"-\", and \"/\"\n",
    "* Remember the precendence rules of operations when writing the functions. \n",
    "\n",
    "**Note.You can use any existing library for stack or queue implementation** \n",
    "\n",
    "a. Users of the class should be able to initialize an object of the *InfixExpression* class with a list containing a *infixexpression*. Name the list as *infix*. **(5 Points)**\n",
    "\n",
    "b. Implement *_check_infix* method as a member of *InfixExpression* class. The method should return True if the given expression is a correctly formatted infix expression else return False. Update the __init__ function to use this function to check if the expression initialized is valid. If not throw an error from the __init__ function **(5 Points)**\n",
    "    \n",
    "c. Implement a *infixtopostfix* method as a member of the *InfixExpression* class. The  method should return the *postfix* form of the *infix* expression.**(7.5 Points)** \n",
    "\n",
    "* **Algorithm to implement**\n",
    "    * Initalize an empty stack for the operators\n",
    "    * Read infix expression list from left to right\n",
    "      * If element is operand (numbers) then print it out\n",
    "      * If element is math operator (call it thisOps)\n",
    "        *  While stack is not empty and the top element on the stack has the same or greater precedence as thisOp \n",
    "          * Pop (and print) from the stack\n",
    "        * Push thisOps onto the stack\n",
    "    * If the entire expression has been consumed then pop (and print) out remaining operators from stack\n",
    "\n",
    "\n",
    "d. Implement *evaluate* method as a member of the *InfixExpression* class. The method should return the evaluated value of the expression. **(7.5 Points)**\n",
    "\n",
    "* **Algorithm to implement**\n",
    " * Initialize two empty stacks: a value stack to hold operands (numbers) and operator stack to hold operators\n",
    " * While there are still elements in infix expression to be read in,\n",
    "   * Get the next element. \n",
    "   * If the element is:\n",
    "      * A number: push it onto the value stack.\n",
    "      * An operator (call it thisOp):\n",
    "        * While the operator stack is not empty, and the top element on the operator stack has the same or greater precedence as thisOp,\n",
    "          * Pop the operator from the operator stack.\n",
    "          * Pop the value stack twice, getting two operands.\n",
    "          * Apply the operator to the operands, in the correct order. (Remember stack is last in first out)\n",
    "          * Push the result onto the value stack.\n",
    "        * Push thisOp onto the operator stack.\n",
    "  * While the operator stack is not empty,\n",
    "    * Pop the operator from the operator stack.\n",
    "    * Pop the value stack twice, getting two operands.\n",
    "    * Apply the operator to the operands, in the correct order.\n",
    "    * Push the result onto the value stack.\n",
    "  * At this point the operator stack should be empty, and the value stack should have only one value in it, which is the final result.\n",
    "\n",
    "\n",
    "**Helper Libraries**\n",
    "* https://docs.python.org/3/library/operator.html\n",
    "* https://docs.python.org/3/library/collections.html#collections.deque\n"
   ]
  },
  {
   "cell_type": "code",
   "execution_count": 16,
   "metadata": {
    "id": "DL4KwQtFWN2H"
   },
   "outputs": [],
   "source": [
    "from collections import deque\n",
    "from operator import add, mul, sub, truediv\n",
    "\n",
    "num_types = [int, float]\n",
    "operators = ['+','*','-','/']\n",
    "high_order = ['*','/']\n",
    "low_order = ['+','-']\n",
    "\n",
    "def op(a,b,o):\n",
    "    if o =='+':\n",
    "        return add(a,b)\n",
    "    elif o == '*':\n",
    "        return mul(a,b)\n",
    "    elif o == '-':\n",
    "        return sub(a,b)\n",
    "    elif o == '/':\n",
    "        return truediv(a,b)\n",
    "    \n",
    "        \n",
    "def high_or_low(s):\n",
    "    while s in operators:\n",
    "        if s in high_order:\n",
    "            return 1\n",
    "        elif s in low_order:\n",
    "            return 0\n",
    "       \n",
    "\n",
    "class InfixExpression:\n",
    "    \n",
    "    def __init__(self,infix):\n",
    "        # class attributes: \n",
    "        # an ordered list, each element is part of an expression\n",
    "        #the whole list can be read as an infix expression\n",
    "        self.infix = infix\n",
    "        \n",
    "        if not self._check_infix():\n",
    "            raise ValueError ('Error: object is not in correct infix format')\n",
    "\n",
    "    \n",
    "    def _check_infix(self):\n",
    "        if len(self.infix)%2==0:\n",
    "            return False\n",
    "        else:\n",
    "            for i in range(len(self.infix)):\n",
    "                if i%2 and self.infix[i] not in operators:\n",
    "                    return False\n",
    "            else:\n",
    "                if type(self.infix[i]) not in num_types:\n",
    "                    return False\n",
    "        return True\n",
    "    \n",
    "    def infixtopostfix(self):\n",
    "        operator_stack = deque()\n",
    "        for element in self.infix:\n",
    "            if type(element) in num_types:\n",
    "                print(element)\n",
    "            if element in operators:\n",
    "                thisOps = element\n",
    "                while len(operator_stack) and (high_or_low(thisOps) <= high_or_low(operator_stack[-1])):\n",
    "                #while operator stack isnt empty\n",
    "                #and while the top element of the stack (index -1) \n",
    "                #is either of the same order or higher\n",
    "                    print(operator_stack.pop())\n",
    "                operator_stack.append(thisOps)\n",
    "        for i in range(len(operator_stack)):\n",
    "            print(operator_stack.pop())\n",
    "    \n",
    "    def evaluate(self):\n",
    "        value_stack = deque()\n",
    "        op_stack = deque()\n",
    "        for element in self.infix:\n",
    "            if type(element) in num_types:\n",
    "                value_stack.append(element)\n",
    "            elif element in operators:\n",
    "                thisOp = element\n",
    "                while len(op_stack) and (high_or_low(thisOp) <= high_or_low(op_stack[-1])):\n",
    "                    o = op_stack.pop()\n",
    "                    v1 = value_stack.pop()\n",
    "                    v2 = value_stack.pop()\n",
    "                    value_stack.append(op(v2,v1,o))\n",
    "                op_stack.append(thisOp)\n",
    "        while len(op_stack):\n",
    "            o = op_stack.pop()\n",
    "            v1 = value_stack.pop()\n",
    "            v2 = value_stack.pop()\n",
    "            value_stack.append(op(v2,v1,o))\n",
    "        return f'The expression evaluates to {value_stack[0]}'\n",
    "            \n",
    "                    \n",
    "                    "
   ]
  },
  {
   "cell_type": "code",
   "execution_count": 19,
   "metadata": {
    "id": "DL4KwQtFWN2H"
   },
   "outputs": [
    {
     "name": "stdout",
     "output_type": "stream",
     "text": [
      "3\n",
      "4\n",
      "5\n",
      "*\n",
      "6\n",
      "/\n",
      "+\n"
     ]
    },
    {
     "data": {
      "text/plain": [
       "'The expression evaluates to 6.333333333333334'"
      ]
     },
     "execution_count": 19,
     "metadata": {},
     "output_type": "execute_result"
    }
   ],
   "source": [
    "a = InfixExpression([3,'+',4,'*',5,'/',6])\n",
    "#b = InfixExpression([3,'*',18,'+', 9, '/',2,'*',11])\n",
    "a.infixtopostfix()\n",
    "a._check_infix()\n",
    "a.evaluate()\n",
    "#b.infixtopostfix()\n",
    "#b._check_infix()\n",
    "#b.evaluate() \n",
    "#len(a.infix)%2==0 #false\n"
   ]
  },
  {
   "cell_type": "markdown",
   "metadata": {},
   "source": [
    "*****"
   ]
  },
  {
   "cell_type": "markdown",
   "metadata": {
    "id": "bGC4VjOUPv_H"
   },
   "source": [
    "### Question 3 **[25 pts]**:"
   ]
  },
  {
   "cell_type": "markdown",
   "metadata": {
    "id": "md6f9PsptSkr"
   },
   "source": [
    "NOTE: You can use the `numpy` library to solve this question.\n",
    "* https://pypi.org/project/numpy/\n"
   ]
  },
  {
   "cell_type": "markdown",
   "metadata": {
    "id": "-Rk_1z1ms_aE"
   },
   "source": [
    "**a)** **(7.5 Points)** Create a function that creates and prints a two dimensional 2x2 array (i.e. grid). The elements of the array should all be zeros. "
   ]
  },
  {
   "cell_type": "code",
   "execution_count": 21,
   "metadata": {
    "colab": {
     "base_uri": "https://localhost:8080/"
    },
    "id": "QUWJ44DFPxYH",
    "outputId": "10cd64c2-41b1-4a75-ce18-b82415ffa57f"
   },
   "outputs": [
    {
     "name": "stdout",
     "output_type": "stream",
     "text": [
      "[[0 0]\n",
      " [0 0]]\n"
     ]
    },
    {
     "data": {
      "text/plain": [
       "numpy.ndarray"
      ]
     },
     "execution_count": 21,
     "metadata": {},
     "output_type": "execute_result"
    }
   ],
   "source": [
    "import numpy as np\n",
    "\n",
    "def zero_grid():\n",
    "    a = np.full(shape=(2,2), fill_value = 0)\n",
    "    print(a)\n",
    "    return a\n",
    "\n",
    "grid = zero_grid()\n",
    "\n",
    "    "
   ]
  },
  {
   "cell_type": "markdown",
   "metadata": {
    "id": "COxPGjoNuLQs"
   },
   "source": [
    "**b)** **(7.5 Points)** Replace the elements of the grid with randomly selected numbers from the inclusive interval $[-5, +5]$ "
   ]
  },
  {
   "cell_type": "code",
   "execution_count": 28,
   "metadata": {
    "colab": {
     "base_uri": "https://localhost:8080/"
    },
    "id": "xrd3RcSatfj_",
    "outputId": "01387f7d-ea5a-4426-9931-a9e0e9f3de21"
   },
   "outputs": [
    {
     "data": {
      "text/plain": [
       "array([[ 0, -3],\n",
       "       [-2,  0]])"
      ]
     },
     "execution_count": 28,
     "metadata": {},
     "output_type": "execute_result"
    }
   ],
   "source": [
    "from random import randint, uniform\n",
    "\n",
    "for i in range(2):\n",
    "    for j in range(2):\n",
    "        grid[i][j] = uniform(-5,5)\n",
    "grid"
   ]
  },
  {
   "cell_type": "code",
   "execution_count": 30,
   "metadata": {
    "colab": {
     "base_uri": "https://localhost:8080/"
    },
    "id": "xrd3RcSatfj_",
    "outputId": "01387f7d-ea5a-4426-9931-a9e0e9f3de21"
   },
   "outputs": [
    {
     "data": {
      "text/plain": [
       "-3"
      ]
     },
     "execution_count": 30,
     "metadata": {},
     "output_type": "execute_result"
    }
   ],
   "source": [
    "grid[0][1]"
   ]
  },
  {
   "cell_type": "markdown",
   "metadata": {
    "id": "RAo-S6ETvg80"
   },
   "source": [
    "**c)** **(10 Points)** Compute the determinant of the grid.\n",
    "For example, if the grid is equal to:\n",
    "\\begin{equation}\n",
    "A = \\begin{bmatrix}\n",
    "    a & b \\\\\n",
    "    c & d \n",
    "  \\end{bmatrix}\n",
    "\\end{equation}\n",
    "\n",
    "\\begin{equation}\n",
    "\\det A = ad - bc\n",
    "\\end{equation}"
   ]
  },
  {
   "cell_type": "code",
   "execution_count": 32,
   "metadata": {
    "colab": {
     "base_uri": "https://localhost:8080/"
    },
    "id": "PNASFq1SvgIc",
    "outputId": "8a086e06-edc5-460e-d411-b338c7b429fd"
   },
   "outputs": [
    {
     "data": {
      "text/plain": [
       "-6"
      ]
     },
     "execution_count": 32,
     "metadata": {},
     "output_type": "execute_result"
    }
   ],
   "source": [
    "def det_two_by_two(grid):\n",
    "    a = grid[0][0]\n",
    "    b = grid [0][1]\n",
    "    c = grid [1][0]\n",
    "    d = grid[1][1]\n",
    "    return (a*d)-(b*c)\n",
    "\n",
    "det_two_by_two(grid)"
   ]
  },
  {
   "cell_type": "markdown",
   "metadata": {
    "nteract": {
     "transient": {
      "deleting": false
     }
    }
   },
   "source": [
    "*****"
   ]
  },
  {
   "cell_type": "markdown",
   "metadata": {
    "id": "I2Hu89LOP5vR"
   },
   "source": [
    "### Question 4 **[25 pts]**:"
   ]
  },
  {
   "cell_type": "markdown",
   "metadata": {
    "id": "4LgCs5VLTtoQ"
   },
   "source": [
    "**a)** **(10 Points)** Complete the methods of the following `Stack` class according to their description"
   ]
  },
  {
   "cell_type": "code",
   "execution_count": 33,
   "metadata": {
    "id": "7E9kdHwhP6h7"
   },
   "outputs": [],
   "source": [
    "import doctest\n",
    "class Stack:\n",
    "    def __init__(self):\n",
    "        \"\"\" Initialize a new stack \"\"\"\n",
    "        self.elements = []\n",
    "    def push(self, new_item):\n",
    "        \"\"\" Append the new item to the stack \"\"\"\n",
    "        self.elements.append(new_item)\n",
    "    def pop(self):\n",
    "        \"\"\" Remove and return the last item from the stack \"\"\"\n",
    "        return self.elements.pop()\n",
    "    def size(self):\n",
    "        \"\"\" Return the total number of elements in the stack \"\"\"\n",
    "        return len(self.elements)\n",
    "    def is_empty(self):\n",
    "        \"\"\" Return True if the stack is empty and False if it is not empty \"\"\"\n",
    "        return self.elements == []\n",
    "    def peek(self):\n",
    "        \"\"\" Return the element at the top of the stack or return None if the stack is empty \"\"\"\n",
    "        if self.is_empty():\n",
    "            return None\n",
    "        return self.elements[-1]"
   ]
  },
  {
   "cell_type": "code",
   "execution_count": 34,
   "metadata": {
    "id": "4j1ZAMG5Ufwl"
   },
   "outputs": [
    {
     "data": {
      "text/plain": [
       "[0, 1, 2, 3]"
      ]
     },
     "execution_count": 34,
     "metadata": {},
     "output_type": "execute_result"
    }
   ],
   "source": [
    "a = Stack()\n",
    "for i in range(5):\n",
    "    a.push(i)\n",
    "a.peek()\n",
    "a.is_empty()\n",
    "a.size()\n",
    "a.pop()\n",
    "a.elements\n"
   ]
  },
  {
   "cell_type": "markdown",
   "metadata": {
    "id": "NkBTIzU4Uqp2"
   },
   "source": [
    "Use the Stack class you defined in `Q1a` to solve the following problem."
   ]
  },
  {
   "cell_type": "markdown",
   "metadata": {
    "id": "d1qmlXYGUxrP"
   },
   "source": [
    "**b)** **(7.5 Points)** Write a function to detect whether the order of brackets is correct using stacks. Some examples are given below:"
   ]
  },
  {
   "cell_type": "code",
   "execution_count": 38,
   "metadata": {
    "id": "34Xa4qJ6UjQi"
   },
   "outputs": [],
   "source": [
    "exp1 = \"(2+3)+(1-5)\" # True\n",
    "exp2 = \"((3*2))*(7/3))\" # False\n",
    "exp3 = \"(3*5))\" # False"
   ]
  },
  {
   "cell_type": "code",
   "execution_count": 39,
   "metadata": {
    "id": "sTfgVFbWUn3p"
   },
   "outputs": [],
   "source": [
    "def is_valid(exp):\n",
    "    bracket_order = Stack()\n",
    "    for element in exp:\n",
    "        if element == '(':\n",
    "                bracket_order.push(element)\n",
    "        if element == ')':\n",
    "            if bracket_order.size():\n",
    "                bracket_order.pop()\n",
    "            else: \n",
    "                return False\n",
    "    return True\n"
   ]
  },
  {
   "cell_type": "code",
   "execution_count": 40,
   "metadata": {
    "id": "UfHtD-KzqBLH"
   },
   "outputs": [
    {
     "name": "stdout",
     "output_type": "stream",
     "text": [
      "True False False\n"
     ]
    }
   ],
   "source": [
    "print(is_valid(exp1), is_valid(exp2),is_valid(exp3))"
   ]
  },
  {
   "cell_type": "markdown",
   "metadata": {
    "id": "sakPZ8IW6czn"
   },
   "source": [
    "**c)** **(7.5 Points)** Create a MinStack class inherited from the Stack class defined in `Q1a` . The MinStack class has an additional function called get_min() that returns the minimum element in the stack"
   ]
  },
  {
   "cell_type": "code",
   "execution_count": 47,
   "metadata": {
    "id": "1zT8BXlkHH0y"
   },
   "outputs": [],
   "source": [
    "class MinStack(Stack):\n",
    "    def __init__(self):\n",
    "        super().__init__()\n",
    "        \n",
    "    def get_min(self):\n",
    "        if self.is_empty():\n",
    "            return \"there are no elements in the stack\"\n",
    "        else:\n",
    "            return min(self.elements)\n",
    "\n",
    "            \n",
    "            \n",
    "            \n",
    "        "
   ]
  },
  {
   "cell_type": "code",
   "execution_count": 50,
   "metadata": {
    "id": "1zT8BXlkHH0y"
   },
   "outputs": [
    {
     "name": "stdout",
     "output_type": "stream",
     "text": [
      "[73.76183027167166, 60.10004556693189, 23.50030375161086, 84.44251331286135, 59.00425869562659, 1.7615717010260212, 93.80925032585607]\n",
      "The min value is:  1.7615717010260212\n"
     ]
    }
   ],
   "source": [
    "m = MinStack()\n",
    "for i in range(7):\n",
    "    m.push(uniform(0,100))\n",
    "print(m.elements)\n",
    "print('The min value is: ', m.get_min())\n",
    "\n",
    "        "
   ]
  },
  {
   "cell_type": "markdown",
   "metadata": {},
   "source": [
    "*****"
   ]
  },
  {
   "cell_type": "markdown",
   "metadata": {},
   "source": [
    "#### This is the end of assignment 3"
   ]
  }
 ],
 "metadata": {
  "colab": {
   "collapsed_sections": [],
   "name": "CIND830S21_Assignment_3_QA_Fall_2021.ipynb",
   "provenance": []
  },
  "kernelspec": {
   "display_name": "Python 3",
   "language": "python",
   "name": "python3"
  },
  "language_info": {
   "codemirror_mode": {
    "name": "ipython",
    "version": 3
   },
   "file_extension": ".py",
   "mimetype": "text/x-python",
   "name": "python",
   "nbconvert_exporter": "python",
   "pygments_lexer": "ipython3",
   "version": "3.7.6"
  },
  "nteract": {
   "version": "0.28.0"
  }
 },
 "nbformat": 4,
 "nbformat_minor": 4
}
